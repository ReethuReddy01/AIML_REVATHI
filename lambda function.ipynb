{
 "cells": [
  {
   "cell_type": "code",
   "execution_count": 5,
   "id": "26dd13f0-b2ee-4b32-8a8f-577acbbbfe97",
   "metadata": {},
   "outputs": [],
   "source": [
    "greet = lambda name: print(f\"Good Mrng {name}\")"
   ]
  },
  {
   "cell_type": "code",
   "execution_count": 7,
   "id": "6878bc10-a82a-4dc9-b442-690be48d80ff",
   "metadata": {},
   "outputs": [
    {
     "name": "stdout",
     "output_type": "stream",
     "text": [
      "Good Mrng manoj\n"
     ]
    }
   ],
   "source": [
    "greet(\"manoj\")"
   ]
  },
  {
   "cell_type": "code",
   "execution_count": 13,
   "id": "e512768a-c3f7-49e3-8f7f-9f49d30c659b",
   "metadata": {},
   "outputs": [],
   "source": [
    "product = lambda a,b,c : a*b*c"
   ]
  },
  {
   "cell_type": "code",
   "execution_count": 17,
   "id": "760f890f-f18c-4d7d-83cc-acdc82d39162",
   "metadata": {},
   "outputs": [
    {
     "data": {
      "text/plain": [
       "6"
      ]
     },
     "execution_count": 17,
     "metadata": {},
     "output_type": "execute_result"
    }
   ],
   "source": [
    "product(1,2,3)"
   ]
  },
  {
   "cell_type": "code",
   "execution_count": 30,
   "id": "119e1948-0e57-4c85-b441-c2e750a21d35",
   "metadata": {},
   "outputs": [],
   "source": [
    "even = lambda L : [x for x in L if x%2 == 0]"
   ]
  },
  {
   "cell_type": "code",
   "execution_count": 34,
   "id": "0c85dcb2-7dec-4133-9621-720c02d19915",
   "metadata": {},
   "outputs": [
    {
     "data": {
      "text/plain": [
       "[64, 76, 22]"
      ]
     },
     "execution_count": 34,
     "metadata": {},
     "output_type": "execute_result"
    }
   ],
   "source": [
    "my_list = [1,13,45,64,76,77,89,22]\n",
    "even(my_list)"
   ]
  },
  {
   "cell_type": "code",
   "execution_count": 38,
   "id": "a95f6835-2c74-49db-b8bf-f179013b3024",
   "metadata": {},
   "outputs": [],
   "source": [
    "odd = lambda L : [x for x in L if x%2 != 0]"
   ]
  },
  {
   "cell_type": "code",
   "execution_count": 40,
   "id": "84003133-2221-48dd-9706-27ce18fced75",
   "metadata": {},
   "outputs": [
    {
     "data": {
      "text/plain": [
       "[1, 13, 45, 77, 89]"
      ]
     },
     "execution_count": 40,
     "metadata": {},
     "output_type": "execute_result"
    }
   ],
   "source": [
    "my_list = [1,13,45,64,76,77,89,22]\n",
    "odd(my_list)"
   ]
  },
  {
   "cell_type": "code",
   "execution_count": null,
   "id": "589945c6-3673-4aaf-a0e5-6029df88a7da",
   "metadata": {},
   "outputs": [],
   "source": []
  }
 ],
 "metadata": {
  "kernelspec": {
   "display_name": "Python [conda env:base] *",
   "language": "python",
   "name": "conda-base-py"
  },
  "language_info": {
   "codemirror_mode": {
    "name": "ipython",
    "version": 3
   },
   "file_extension": ".py",
   "mimetype": "text/x-python",
   "name": "python",
   "nbconvert_exporter": "python",
   "pygments_lexer": "ipython3",
   "version": "3.12.7"
  }
 },
 "nbformat": 4,
 "nbformat_minor": 5
}
