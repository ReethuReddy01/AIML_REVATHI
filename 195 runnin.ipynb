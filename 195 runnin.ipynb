{
 "cells": [
  {
   "cell_type": "code",
   "execution_count": 1,
   "id": "ffdfa680-dfc3-40e3-987f-d8033f8b22c8",
   "metadata": {},
   "outputs": [],
   "source": [
    "import pandas as pd\n",
    "import numpy as np\n",
    "import matplotlib.pyplot as plt\n",
    "import seaborn as sns"
   ]
  },
  {
   "cell_type": "code",
   "execution_count": 2,
   "id": "0a7de50b-2643-4b7e-b306-68f15410b7fd",
   "metadata": {},
   "outputs": [
    {
     "data": {
      "text/html": [
       "<div>\n",
       "<style scoped>\n",
       "    .dataframe tbody tr th:only-of-type {\n",
       "        vertical-align: middle;\n",
       "    }\n",
       "\n",
       "    .dataframe tbody tr th {\n",
       "        vertical-align: top;\n",
       "    }\n",
       "\n",
       "    .dataframe thead th {\n",
       "        text-align: right;\n",
       "    }\n",
       "</style>\n",
       "<table border=\"1\" class=\"dataframe\">\n",
       "  <thead>\n",
       "    <tr style=\"text-align: right;\">\n",
       "      <th></th>\n",
       "      <th>Unnamed: 0</th>\n",
       "      <th>Ozone</th>\n",
       "      <th>Solar.R</th>\n",
       "      <th>Wind</th>\n",
       "      <th>Temp C</th>\n",
       "      <th>Month</th>\n",
       "      <th>Day</th>\n",
       "      <th>Year</th>\n",
       "      <th>Temp</th>\n",
       "      <th>Weather</th>\n",
       "    </tr>\n",
       "  </thead>\n",
       "  <tbody>\n",
       "    <tr>\n",
       "      <th>0</th>\n",
       "      <td>1</td>\n",
       "      <td>41.0</td>\n",
       "      <td>190.0</td>\n",
       "      <td>7.4</td>\n",
       "      <td>67</td>\n",
       "      <td>5</td>\n",
       "      <td>1</td>\n",
       "      <td>2010</td>\n",
       "      <td>67</td>\n",
       "      <td>S</td>\n",
       "    </tr>\n",
       "    <tr>\n",
       "      <th>1</th>\n",
       "      <td>2</td>\n",
       "      <td>36.0</td>\n",
       "      <td>118.0</td>\n",
       "      <td>8.0</td>\n",
       "      <td>72</td>\n",
       "      <td>5</td>\n",
       "      <td>2</td>\n",
       "      <td>2010</td>\n",
       "      <td>72</td>\n",
       "      <td>C</td>\n",
       "    </tr>\n",
       "    <tr>\n",
       "      <th>2</th>\n",
       "      <td>3</td>\n",
       "      <td>12.0</td>\n",
       "      <td>149.0</td>\n",
       "      <td>12.6</td>\n",
       "      <td>74</td>\n",
       "      <td>5</td>\n",
       "      <td>3</td>\n",
       "      <td>2010</td>\n",
       "      <td>74</td>\n",
       "      <td>PS</td>\n",
       "    </tr>\n",
       "    <tr>\n",
       "      <th>3</th>\n",
       "      <td>4</td>\n",
       "      <td>18.0</td>\n",
       "      <td>313.0</td>\n",
       "      <td>11.5</td>\n",
       "      <td>62</td>\n",
       "      <td>5</td>\n",
       "      <td>4</td>\n",
       "      <td>2010</td>\n",
       "      <td>62</td>\n",
       "      <td>S</td>\n",
       "    </tr>\n",
       "    <tr>\n",
       "      <th>4</th>\n",
       "      <td>5</td>\n",
       "      <td>NaN</td>\n",
       "      <td>NaN</td>\n",
       "      <td>14.3</td>\n",
       "      <td>56</td>\n",
       "      <td>5</td>\n",
       "      <td>5</td>\n",
       "      <td>2010</td>\n",
       "      <td>56</td>\n",
       "      <td>S</td>\n",
       "    </tr>\n",
       "    <tr>\n",
       "      <th>...</th>\n",
       "      <td>...</td>\n",
       "      <td>...</td>\n",
       "      <td>...</td>\n",
       "      <td>...</td>\n",
       "      <td>...</td>\n",
       "      <td>...</td>\n",
       "      <td>...</td>\n",
       "      <td>...</td>\n",
       "      <td>...</td>\n",
       "      <td>...</td>\n",
       "    </tr>\n",
       "    <tr>\n",
       "      <th>153</th>\n",
       "      <td>154</td>\n",
       "      <td>41.0</td>\n",
       "      <td>190.0</td>\n",
       "      <td>7.4</td>\n",
       "      <td>67</td>\n",
       "      <td>5</td>\n",
       "      <td>1</td>\n",
       "      <td>2010</td>\n",
       "      <td>67</td>\n",
       "      <td>C</td>\n",
       "    </tr>\n",
       "    <tr>\n",
       "      <th>154</th>\n",
       "      <td>155</td>\n",
       "      <td>30.0</td>\n",
       "      <td>193.0</td>\n",
       "      <td>6.9</td>\n",
       "      <td>70</td>\n",
       "      <td>9</td>\n",
       "      <td>26</td>\n",
       "      <td>2010</td>\n",
       "      <td>70</td>\n",
       "      <td>PS</td>\n",
       "    </tr>\n",
       "    <tr>\n",
       "      <th>155</th>\n",
       "      <td>156</td>\n",
       "      <td>NaN</td>\n",
       "      <td>145.0</td>\n",
       "      <td>13.2</td>\n",
       "      <td>77</td>\n",
       "      <td>9</td>\n",
       "      <td>27</td>\n",
       "      <td>2010</td>\n",
       "      <td>77</td>\n",
       "      <td>S</td>\n",
       "    </tr>\n",
       "    <tr>\n",
       "      <th>156</th>\n",
       "      <td>157</td>\n",
       "      <td>14.0</td>\n",
       "      <td>191.0</td>\n",
       "      <td>14.3</td>\n",
       "      <td>75</td>\n",
       "      <td>9</td>\n",
       "      <td>28</td>\n",
       "      <td>2010</td>\n",
       "      <td>75</td>\n",
       "      <td>S</td>\n",
       "    </tr>\n",
       "    <tr>\n",
       "      <th>157</th>\n",
       "      <td>158</td>\n",
       "      <td>18.0</td>\n",
       "      <td>131.0</td>\n",
       "      <td>8.0</td>\n",
       "      <td>76</td>\n",
       "      <td>9</td>\n",
       "      <td>29</td>\n",
       "      <td>2010</td>\n",
       "      <td>76</td>\n",
       "      <td>C</td>\n",
       "    </tr>\n",
       "  </tbody>\n",
       "</table>\n",
       "<p>158 rows × 10 columns</p>\n",
       "</div>"
      ],
      "text/plain": [
       "     Unnamed: 0  Ozone  Solar.R  Wind Temp C Month  Day  Year  Temp Weather\n",
       "0             1   41.0    190.0   7.4     67     5    1  2010    67       S\n",
       "1             2   36.0    118.0   8.0     72     5    2  2010    72       C\n",
       "2             3   12.0    149.0  12.6     74     5    3  2010    74      PS\n",
       "3             4   18.0    313.0  11.5     62     5    4  2010    62       S\n",
       "4             5    NaN      NaN  14.3     56     5    5  2010    56       S\n",
       "..          ...    ...      ...   ...    ...   ...  ...   ...   ...     ...\n",
       "153         154   41.0    190.0   7.4     67     5    1  2010    67       C\n",
       "154         155   30.0    193.0   6.9     70     9   26  2010    70      PS\n",
       "155         156    NaN    145.0  13.2     77     9   27  2010    77       S\n",
       "156         157   14.0    191.0  14.3     75     9   28  2010    75       S\n",
       "157         158   18.0    131.0   8.0     76     9   29  2010    76       C\n",
       "\n",
       "[158 rows x 10 columns]"
      ]
     },
     "execution_count": 2,
     "metadata": {},
     "output_type": "execute_result"
    }
   ],
   "source": [
    "data = pd.read_csv(\"data_clean.csv\")\n",
    "data"
   ]
  },
  {
   "cell_type": "code",
   "execution_count": 5,
   "id": "3877d172-6730-4046-bfd8-d77b2a32f3d5",
   "metadata": {},
   "outputs": [
    {
     "name": "stdout",
     "output_type": "stream",
     "text": [
      "     Unnamed: 0  Ozone  Solar.R  Wind Temp C Month  Day  Year  Temp Weather\n",
      "0             1   41.0    190.0   7.4     67     5    1  2010    67       S\n",
      "1             2   36.0    118.0   8.0     72     5    2  2010    72       C\n",
      "2             3   12.0    149.0  12.6     74     5    3  2010    74      PS\n",
      "3             4   18.0    313.0  11.5     62     5    4  2010    62       S\n",
      "4             5    NaN      NaN  14.3     56     5    5  2010    56       S\n",
      "..          ...    ...      ...   ...    ...   ...  ...   ...   ...     ...\n",
      "153         154   41.0    190.0   7.4     67     5    1  2010    67       C\n",
      "154         155   30.0    193.0   6.9     70     9   26  2010    70      PS\n",
      "155         156    NaN    145.0  13.2     77     9   27  2010    77       S\n",
      "156         157   14.0    191.0  14.3     75     9   28  2010    75       S\n",
      "157         158   18.0    131.0   8.0     76     9   29  2010    76       C\n",
      "\n",
      "[158 rows x 10 columns]\n"
     ]
    }
   ],
   "source": [
    "data = pd.read_csv(\"data_clean.csv\")\n",
    "print(data)"
   ]
  },
  {
   "cell_type": "code",
   "execution_count": 7,
   "id": "f6a47e9b-2710-4d5a-99ed-3c4a230b428f",
   "metadata": {},
   "outputs": [
    {
     "name": "stdout",
     "output_type": "stream",
     "text": [
      "<class 'pandas.core.frame.DataFrame'>\n",
      "RangeIndex: 158 entries, 0 to 157\n",
      "Data columns (total 10 columns):\n",
      " #   Column      Non-Null Count  Dtype  \n",
      "---  ------      --------------  -----  \n",
      " 0   Unnamed: 0  158 non-null    int64  \n",
      " 1   Ozone       120 non-null    float64\n",
      " 2   Solar.R     151 non-null    float64\n",
      " 3   Wind        158 non-null    float64\n",
      " 4   Temp C      158 non-null    object \n",
      " 5   Month       158 non-null    object \n",
      " 6   Day         158 non-null    int64  \n",
      " 7   Year        158 non-null    int64  \n",
      " 8   Temp        158 non-null    int64  \n",
      " 9   Weather     155 non-null    object \n",
      "dtypes: float64(3), int64(4), object(3)\n",
      "memory usage: 12.5+ KB\n"
     ]
    }
   ],
   "source": [
    "data.info()"
   ]
  },
  {
   "cell_type": "code",
   "execution_count": 5,
   "id": "ffc0c7c5-11ea-4ac0-a82b-024f255dac97",
   "metadata": {},
   "outputs": [
    {
     "name": "stdout",
     "output_type": "stream",
     "text": [
      "<class 'pandas.core.frame.DataFrame'>\n",
      "(158, 10)\n"
     ]
    }
   ],
   "source": [
    "print(type(data))\n",
    "print(data.shape)\n"
   ]
  },
  {
   "cell_type": "code",
   "execution_count": 7,
   "id": "0f52cde8-6785-49b6-ad40-ce74a6b2dd2b",
   "metadata": {},
   "outputs": [
    {
     "data": {
      "text/plain": [
       "(158, 10)"
      ]
     },
     "execution_count": 7,
     "metadata": {},
     "output_type": "execute_result"
    }
   ],
   "source": [
    "data.shape"
   ]
  },
  {
   "cell_type": "code",
   "execution_count": 9,
   "id": "a44f83be-da5d-43ae-a8cf-175a51dc8992",
   "metadata": {},
   "outputs": [
    {
     "data": {
      "text/html": [
       "<div>\n",
       "<style scoped>\n",
       "    .dataframe tbody tr th:only-of-type {\n",
       "        vertical-align: middle;\n",
       "    }\n",
       "\n",
       "    .dataframe tbody tr th {\n",
       "        vertical-align: top;\n",
       "    }\n",
       "\n",
       "    .dataframe thead th {\n",
       "        text-align: right;\n",
       "    }\n",
       "</style>\n",
       "<table border=\"1\" class=\"dataframe\">\n",
       "  <thead>\n",
       "    <tr style=\"text-align: right;\">\n",
       "      <th></th>\n",
       "      <th>Ozone</th>\n",
       "      <th>Solar.R</th>\n",
       "      <th>Wind</th>\n",
       "      <th>Month</th>\n",
       "      <th>Day</th>\n",
       "      <th>Year</th>\n",
       "      <th>Temp</th>\n",
       "      <th>Weather</th>\n",
       "    </tr>\n",
       "  </thead>\n",
       "  <tbody>\n",
       "    <tr>\n",
       "      <th>0</th>\n",
       "      <td>41.0</td>\n",
       "      <td>190.0</td>\n",
       "      <td>7.4</td>\n",
       "      <td>5</td>\n",
       "      <td>1</td>\n",
       "      <td>2010</td>\n",
       "      <td>67</td>\n",
       "      <td>S</td>\n",
       "    </tr>\n",
       "    <tr>\n",
       "      <th>1</th>\n",
       "      <td>36.0</td>\n",
       "      <td>118.0</td>\n",
       "      <td>8.0</td>\n",
       "      <td>5</td>\n",
       "      <td>2</td>\n",
       "      <td>2010</td>\n",
       "      <td>72</td>\n",
       "      <td>C</td>\n",
       "    </tr>\n",
       "    <tr>\n",
       "      <th>2</th>\n",
       "      <td>12.0</td>\n",
       "      <td>149.0</td>\n",
       "      <td>12.6</td>\n",
       "      <td>5</td>\n",
       "      <td>3</td>\n",
       "      <td>2010</td>\n",
       "      <td>74</td>\n",
       "      <td>PS</td>\n",
       "    </tr>\n",
       "    <tr>\n",
       "      <th>3</th>\n",
       "      <td>18.0</td>\n",
       "      <td>313.0</td>\n",
       "      <td>11.5</td>\n",
       "      <td>5</td>\n",
       "      <td>4</td>\n",
       "      <td>2010</td>\n",
       "      <td>62</td>\n",
       "      <td>S</td>\n",
       "    </tr>\n",
       "    <tr>\n",
       "      <th>4</th>\n",
       "      <td>NaN</td>\n",
       "      <td>NaN</td>\n",
       "      <td>14.3</td>\n",
       "      <td>5</td>\n",
       "      <td>5</td>\n",
       "      <td>2010</td>\n",
       "      <td>56</td>\n",
       "      <td>S</td>\n",
       "    </tr>\n",
       "    <tr>\n",
       "      <th>...</th>\n",
       "      <td>...</td>\n",
       "      <td>...</td>\n",
       "      <td>...</td>\n",
       "      <td>...</td>\n",
       "      <td>...</td>\n",
       "      <td>...</td>\n",
       "      <td>...</td>\n",
       "      <td>...</td>\n",
       "    </tr>\n",
       "    <tr>\n",
       "      <th>153</th>\n",
       "      <td>41.0</td>\n",
       "      <td>190.0</td>\n",
       "      <td>7.4</td>\n",
       "      <td>5</td>\n",
       "      <td>1</td>\n",
       "      <td>2010</td>\n",
       "      <td>67</td>\n",
       "      <td>C</td>\n",
       "    </tr>\n",
       "    <tr>\n",
       "      <th>154</th>\n",
       "      <td>30.0</td>\n",
       "      <td>193.0</td>\n",
       "      <td>6.9</td>\n",
       "      <td>9</td>\n",
       "      <td>26</td>\n",
       "      <td>2010</td>\n",
       "      <td>70</td>\n",
       "      <td>PS</td>\n",
       "    </tr>\n",
       "    <tr>\n",
       "      <th>155</th>\n",
       "      <td>NaN</td>\n",
       "      <td>145.0</td>\n",
       "      <td>13.2</td>\n",
       "      <td>9</td>\n",
       "      <td>27</td>\n",
       "      <td>2010</td>\n",
       "      <td>77</td>\n",
       "      <td>S</td>\n",
       "    </tr>\n",
       "    <tr>\n",
       "      <th>156</th>\n",
       "      <td>14.0</td>\n",
       "      <td>191.0</td>\n",
       "      <td>14.3</td>\n",
       "      <td>9</td>\n",
       "      <td>28</td>\n",
       "      <td>2010</td>\n",
       "      <td>75</td>\n",
       "      <td>S</td>\n",
       "    </tr>\n",
       "    <tr>\n",
       "      <th>157</th>\n",
       "      <td>18.0</td>\n",
       "      <td>131.0</td>\n",
       "      <td>8.0</td>\n",
       "      <td>9</td>\n",
       "      <td>29</td>\n",
       "      <td>2010</td>\n",
       "      <td>76</td>\n",
       "      <td>C</td>\n",
       "    </tr>\n",
       "  </tbody>\n",
       "</table>\n",
       "<p>158 rows × 8 columns</p>\n",
       "</div>"
      ],
      "text/plain": [
       "     Ozone  Solar.R  Wind Month  Day  Year  Temp Weather\n",
       "0     41.0    190.0   7.4     5    1  2010    67       S\n",
       "1     36.0    118.0   8.0     5    2  2010    72       C\n",
       "2     12.0    149.0  12.6     5    3  2010    74      PS\n",
       "3     18.0    313.0  11.5     5    4  2010    62       S\n",
       "4      NaN      NaN  14.3     5    5  2010    56       S\n",
       "..     ...      ...   ...   ...  ...   ...   ...     ...\n",
       "153   41.0    190.0   7.4     5    1  2010    67       C\n",
       "154   30.0    193.0   6.9     9   26  2010    70      PS\n",
       "155    NaN    145.0  13.2     9   27  2010    77       S\n",
       "156   14.0    191.0  14.3     9   28  2010    75       S\n",
       "157   18.0    131.0   8.0     9   29  2010    76       C\n",
       "\n",
       "[158 rows x 8 columns]"
      ]
     },
     "execution_count": 9,
     "metadata": {},
     "output_type": "execute_result"
    }
   ],
   "source": [
    "#drop duplicate column and Unnamed column\n",
    "data1 = data.drop(['Unnamed: 0',\"Temp C\"], axis =1)\n",
    "data1"
   ]
  },
  {
   "cell_type": "code",
   "execution_count": 11,
   "id": "186c633d-e965-4b5b-aa8d-68f2511d89e4",
   "metadata": {},
   "outputs": [
    {
     "name": "stdout",
     "output_type": "stream",
     "text": [
      "<class 'pandas.core.frame.DataFrame'>\n",
      "RangeIndex: 158 entries, 0 to 157\n",
      "Data columns (total 8 columns):\n",
      " #   Column   Non-Null Count  Dtype  \n",
      "---  ------   --------------  -----  \n",
      " 0   Ozone    120 non-null    float64\n",
      " 1   Solar.R  151 non-null    float64\n",
      " 2   Wind     158 non-null    float64\n",
      " 3   Month    157 non-null    float64\n",
      " 4   Day      158 non-null    int64  \n",
      " 5   Year     158 non-null    int64  \n",
      " 6   Temp     158 non-null    int64  \n",
      " 7   Weather  155 non-null    object \n",
      "dtypes: float64(4), int64(3), object(1)\n",
      "memory usage: 10.0+ KB\n"
     ]
    }
   ],
   "source": [
    "data1['Month']=pd.to_numeric(data['Month'],errors='coerce')\n",
    "data1.info()"
   ]
  },
  {
   "cell_type": "code",
   "execution_count": 13,
   "id": "51fcc8ce-bd1c-4890-9016-b1ef9deff541",
   "metadata": {},
   "outputs": [
    {
     "data": {
      "text/html": [
       "<div>\n",
       "<style scoped>\n",
       "    .dataframe tbody tr th:only-of-type {\n",
       "        vertical-align: middle;\n",
       "    }\n",
       "\n",
       "    .dataframe tbody tr th {\n",
       "        vertical-align: top;\n",
       "    }\n",
       "\n",
       "    .dataframe thead th {\n",
       "        text-align: right;\n",
       "    }\n",
       "</style>\n",
       "<table border=\"1\" class=\"dataframe\">\n",
       "  <thead>\n",
       "    <tr style=\"text-align: right;\">\n",
       "      <th></th>\n",
       "      <th>Ozone</th>\n",
       "      <th>Solar.R</th>\n",
       "      <th>Wind</th>\n",
       "      <th>Month</th>\n",
       "      <th>Day</th>\n",
       "      <th>Year</th>\n",
       "      <th>Temp</th>\n",
       "      <th>Weather</th>\n",
       "    </tr>\n",
       "  </thead>\n",
       "  <tbody>\n",
       "    <tr>\n",
       "      <th>156</th>\n",
       "      <td>14.0</td>\n",
       "      <td>191.0</td>\n",
       "      <td>14.3</td>\n",
       "      <td>9.0</td>\n",
       "      <td>28</td>\n",
       "      <td>2010</td>\n",
       "      <td>75</td>\n",
       "      <td>S</td>\n",
       "    </tr>\n",
       "  </tbody>\n",
       "</table>\n",
       "</div>"
      ],
      "text/plain": [
       "     Ozone  Solar.R  Wind  Month  Day  Year  Temp Weather\n",
       "156   14.0    191.0  14.3    9.0   28  2010    75       S"
      ]
     },
     "execution_count": 13,
     "metadata": {},
     "output_type": "execute_result"
    }
   ],
   "source": [
    "data1[data1.duplicated()]"
   ]
  },
  {
   "cell_type": "code",
   "execution_count": 15,
   "id": "ecbd755d-031d-4b36-bad5-0300bcf935e1",
   "metadata": {},
   "outputs": [
    {
     "data": {
      "text/html": [
       "<div>\n",
       "<style scoped>\n",
       "    .dataframe tbody tr th:only-of-type {\n",
       "        vertical-align: middle;\n",
       "    }\n",
       "\n",
       "    .dataframe tbody tr th {\n",
       "        vertical-align: top;\n",
       "    }\n",
       "\n",
       "    .dataframe thead th {\n",
       "        text-align: right;\n",
       "    }\n",
       "</style>\n",
       "<table border=\"1\" class=\"dataframe\">\n",
       "  <thead>\n",
       "    <tr style=\"text-align: right;\">\n",
       "      <th></th>\n",
       "      <th>Ozone</th>\n",
       "      <th>Solar.R</th>\n",
       "      <th>Wind</th>\n",
       "      <th>Month</th>\n",
       "      <th>Day</th>\n",
       "      <th>Year</th>\n",
       "      <th>Temp</th>\n",
       "      <th>Weather</th>\n",
       "    </tr>\n",
       "  </thead>\n",
       "  <tbody>\n",
       "    <tr>\n",
       "      <th>150</th>\n",
       "      <td>14.0</td>\n",
       "      <td>191.0</td>\n",
       "      <td>14.3</td>\n",
       "      <td>9.0</td>\n",
       "      <td>28</td>\n",
       "      <td>2010</td>\n",
       "      <td>75</td>\n",
       "      <td>S</td>\n",
       "    </tr>\n",
       "    <tr>\n",
       "      <th>156</th>\n",
       "      <td>14.0</td>\n",
       "      <td>191.0</td>\n",
       "      <td>14.3</td>\n",
       "      <td>9.0</td>\n",
       "      <td>28</td>\n",
       "      <td>2010</td>\n",
       "      <td>75</td>\n",
       "      <td>S</td>\n",
       "    </tr>\n",
       "  </tbody>\n",
       "</table>\n",
       "</div>"
      ],
      "text/plain": [
       "     Ozone  Solar.R  Wind  Month  Day  Year  Temp Weather\n",
       "150   14.0    191.0  14.3    9.0   28  2010    75       S\n",
       "156   14.0    191.0  14.3    9.0   28  2010    75       S"
      ]
     },
     "execution_count": 15,
     "metadata": {},
     "output_type": "execute_result"
    }
   ],
   "source": [
    "data1[data1.duplicated(keep = False)]"
   ]
  },
  {
   "cell_type": "code",
   "execution_count": 17,
   "id": "d16f6ca5-32fa-4e34-abfa-02cb16100e68",
   "metadata": {},
   "outputs": [
    {
     "data": {
      "text/html": [
       "<div>\n",
       "<style scoped>\n",
       "    .dataframe tbody tr th:only-of-type {\n",
       "        vertical-align: middle;\n",
       "    }\n",
       "\n",
       "    .dataframe tbody tr th {\n",
       "        vertical-align: top;\n",
       "    }\n",
       "\n",
       "    .dataframe thead th {\n",
       "        text-align: right;\n",
       "    }\n",
       "</style>\n",
       "<table border=\"1\" class=\"dataframe\">\n",
       "  <thead>\n",
       "    <tr style=\"text-align: right;\">\n",
       "      <th></th>\n",
       "      <th>Ozone</th>\n",
       "      <th>Solar</th>\n",
       "      <th>Wind</th>\n",
       "      <th>Month</th>\n",
       "      <th>Day</th>\n",
       "      <th>Year</th>\n",
       "      <th>Temp</th>\n",
       "      <th>Weather</th>\n",
       "    </tr>\n",
       "  </thead>\n",
       "  <tbody>\n",
       "    <tr>\n",
       "      <th>0</th>\n",
       "      <td>41.0</td>\n",
       "      <td>190.0</td>\n",
       "      <td>7.4</td>\n",
       "      <td>5.0</td>\n",
       "      <td>1</td>\n",
       "      <td>2010</td>\n",
       "      <td>67</td>\n",
       "      <td>S</td>\n",
       "    </tr>\n",
       "    <tr>\n",
       "      <th>1</th>\n",
       "      <td>36.0</td>\n",
       "      <td>118.0</td>\n",
       "      <td>8.0</td>\n",
       "      <td>5.0</td>\n",
       "      <td>2</td>\n",
       "      <td>2010</td>\n",
       "      <td>72</td>\n",
       "      <td>C</td>\n",
       "    </tr>\n",
       "    <tr>\n",
       "      <th>2</th>\n",
       "      <td>12.0</td>\n",
       "      <td>149.0</td>\n",
       "      <td>12.6</td>\n",
       "      <td>5.0</td>\n",
       "      <td>3</td>\n",
       "      <td>2010</td>\n",
       "      <td>74</td>\n",
       "      <td>PS</td>\n",
       "    </tr>\n",
       "    <tr>\n",
       "      <th>3</th>\n",
       "      <td>18.0</td>\n",
       "      <td>313.0</td>\n",
       "      <td>11.5</td>\n",
       "      <td>5.0</td>\n",
       "      <td>4</td>\n",
       "      <td>2010</td>\n",
       "      <td>62</td>\n",
       "      <td>S</td>\n",
       "    </tr>\n",
       "    <tr>\n",
       "      <th>4</th>\n",
       "      <td>NaN</td>\n",
       "      <td>NaN</td>\n",
       "      <td>14.3</td>\n",
       "      <td>5.0</td>\n",
       "      <td>5</td>\n",
       "      <td>2010</td>\n",
       "      <td>56</td>\n",
       "      <td>S</td>\n",
       "    </tr>\n",
       "    <tr>\n",
       "      <th>...</th>\n",
       "      <td>...</td>\n",
       "      <td>...</td>\n",
       "      <td>...</td>\n",
       "      <td>...</td>\n",
       "      <td>...</td>\n",
       "      <td>...</td>\n",
       "      <td>...</td>\n",
       "      <td>...</td>\n",
       "    </tr>\n",
       "    <tr>\n",
       "      <th>153</th>\n",
       "      <td>41.0</td>\n",
       "      <td>190.0</td>\n",
       "      <td>7.4</td>\n",
       "      <td>5.0</td>\n",
       "      <td>1</td>\n",
       "      <td>2010</td>\n",
       "      <td>67</td>\n",
       "      <td>C</td>\n",
       "    </tr>\n",
       "    <tr>\n",
       "      <th>154</th>\n",
       "      <td>30.0</td>\n",
       "      <td>193.0</td>\n",
       "      <td>6.9</td>\n",
       "      <td>9.0</td>\n",
       "      <td>26</td>\n",
       "      <td>2010</td>\n",
       "      <td>70</td>\n",
       "      <td>PS</td>\n",
       "    </tr>\n",
       "    <tr>\n",
       "      <th>155</th>\n",
       "      <td>NaN</td>\n",
       "      <td>145.0</td>\n",
       "      <td>13.2</td>\n",
       "      <td>9.0</td>\n",
       "      <td>27</td>\n",
       "      <td>2010</td>\n",
       "      <td>77</td>\n",
       "      <td>S</td>\n",
       "    </tr>\n",
       "    <tr>\n",
       "      <th>156</th>\n",
       "      <td>14.0</td>\n",
       "      <td>191.0</td>\n",
       "      <td>14.3</td>\n",
       "      <td>9.0</td>\n",
       "      <td>28</td>\n",
       "      <td>2010</td>\n",
       "      <td>75</td>\n",
       "      <td>S</td>\n",
       "    </tr>\n",
       "    <tr>\n",
       "      <th>157</th>\n",
       "      <td>18.0</td>\n",
       "      <td>131.0</td>\n",
       "      <td>8.0</td>\n",
       "      <td>9.0</td>\n",
       "      <td>29</td>\n",
       "      <td>2010</td>\n",
       "      <td>76</td>\n",
       "      <td>C</td>\n",
       "    </tr>\n",
       "  </tbody>\n",
       "</table>\n",
       "<p>158 rows × 8 columns</p>\n",
       "</div>"
      ],
      "text/plain": [
       "     Ozone  Solar  Wind  Month  Day  Year  Temp Weather\n",
       "0     41.0  190.0   7.4    5.0    1  2010    67       S\n",
       "1     36.0  118.0   8.0    5.0    2  2010    72       C\n",
       "2     12.0  149.0  12.6    5.0    3  2010    74      PS\n",
       "3     18.0  313.0  11.5    5.0    4  2010    62       S\n",
       "4      NaN    NaN  14.3    5.0    5  2010    56       S\n",
       "..     ...    ...   ...    ...  ...   ...   ...     ...\n",
       "153   41.0  190.0   7.4    5.0    1  2010    67       C\n",
       "154   30.0  193.0   6.9    9.0   26  2010    70      PS\n",
       "155    NaN  145.0  13.2    9.0   27  2010    77       S\n",
       "156   14.0  191.0  14.3    9.0   28  2010    75       S\n",
       "157   18.0  131.0   8.0    9.0   29  2010    76       C\n",
       "\n",
       "[158 rows x 8 columns]"
      ]
     },
     "execution_count": 17,
     "metadata": {},
     "output_type": "execute_result"
    }
   ],
   "source": [
    "data1.rename({'Solar.R': 'Solar'}, axis=1, inplace = True)\n",
    "data1"
   ]
  },
  {
   "cell_type": "code",
   "execution_count": 19,
   "id": "5094006e-31ce-42e9-b9a9-e8990a57111a",
   "metadata": {},
   "outputs": [
    {
     "name": "stdout",
     "output_type": "stream",
     "text": [
      "<class 'pandas.core.frame.DataFrame'>\n",
      "RangeIndex: 158 entries, 0 to 157\n",
      "Data columns (total 8 columns):\n",
      " #   Column   Non-Null Count  Dtype  \n",
      "---  ------   --------------  -----  \n",
      " 0   Ozone    120 non-null    float64\n",
      " 1   Solar    151 non-null    float64\n",
      " 2   Wind     158 non-null    float64\n",
      " 3   Month    157 non-null    float64\n",
      " 4   Day      158 non-null    int64  \n",
      " 5   Year     158 non-null    int64  \n",
      " 6   Temp     158 non-null    int64  \n",
      " 7   Weather  155 non-null    object \n",
      "dtypes: float64(4), int64(3), object(1)\n",
      "memory usage: 10.0+ KB\n"
     ]
    }
   ],
   "source": [
    "data1.info()"
   ]
  },
  {
   "cell_type": "code",
   "execution_count": 21,
   "id": "f0ca70be-2040-41e3-a437-ec1220a437d3",
   "metadata": {},
   "outputs": [
    {
     "data": {
      "text/plain": [
       "Ozone      38\n",
       "Solar       7\n",
       "Wind        0\n",
       "Month       1\n",
       "Day         0\n",
       "Year        0\n",
       "Temp        0\n",
       "Weather     3\n",
       "dtype: int64"
      ]
     },
     "execution_count": 21,
     "metadata": {},
     "output_type": "execute_result"
    }
   ],
   "source": [
    "data1.isnull().sum()"
   ]
  },
  {
   "cell_type": "code",
   "execution_count": 23,
   "id": "76e293ea-054d-492e-8432-dad5a7b1a9e0",
   "metadata": {},
   "outputs": [
    {
     "data": {
      "text/plain": [
       "<Axes: >"
      ]
     },
     "execution_count": 23,
     "metadata": {},
     "output_type": "execute_result"
    },
    {
     "data": {
      "image/png": "[encoded data removed]",
      "text/plain": [
       "<Figure size 640x480 with 2 Axes>"
      ]
     },
     "metadata": {},
     "output_type": "display_data"
    }
   ],
   "source": [
    "cols = data1.columns\n",
    "colours = ['black','yellow']\n",
    "sns.heatmap(data1[cols].isnull(),cmap=sns.color_palette(colours),cbar = True)"
   ]
  },
  {
   "cell_type": "code",
   "execution_count": 25,
   "id": "b422514c-3e05-4586-9b86-aa7a4b5c5366",
   "metadata": {},
   "outputs": [
    {
     "name": "stdout",
     "output_type": "stream",
     "text": [
      "Median of Ozone:  30.5\n",
      "Mean of Ozone:  41.583333333333336\n"
     ]
    }
   ],
   "source": [
    "median_ozone = data1[\"Ozone\"].median()\n",
    "mean_ozone = data1[\"Ozone\"].mean()\n",
    "print(\"Median of Ozone: \", median_ozone)\n",
    "print(\"Mean of Ozone: \", mean_ozone)"
   ]
  },
  {
   "cell_type": "code",
   "execution_count": 27,
   "id": "bff488c5-8ddb-4577-a96f-0cbec6649c3d",
   "metadata": {},
   "outputs": [
    {
     "data": {
      "text/plain": [
       "Ozone      0\n",
       "Solar      7\n",
       "Wind       0\n",
       "Month      1\n",
       "Day        0\n",
       "Year       0\n",
       "Temp       0\n",
       "Weather    3\n",
       "dtype: int64"
      ]
     },
     "execution_count": 27,
     "metadata": {},
     "output_type": "execute_result"
    }
   ],
   "source": [
    "data1['Ozone'] = data1['Ozone'].fillna(median_ozone)\n",
    "data1.isnull().sum()"
   ]
  },
  {
   "cell_type": "code",
   "execution_count": 29,
   "id": "f9ad93dc-4512-4d6c-9f59-88e6770660ad",
   "metadata": {},
   "outputs": [
    {
     "data": {
      "text/plain": [
       "Ozone      0\n",
       "Solar      7\n",
       "Wind       0\n",
       "Month      1\n",
       "Day        0\n",
       "Year       0\n",
       "Temp       0\n",
       "Weather    3\n",
       "dtype: int64"
      ]
     },
     "execution_count": 29,
     "metadata": {},
     "output_type": "execute_result"
    }
   ],
   "source": [
    "data1['Wind'] = data1['Wind'].fillna(median_ozone)\n",
    "data1.isnull().sum()"
   ]
  },
  {
   "cell_type": "code",
   "execution_count": 31,
   "id": "9e392d53-1734-47cd-9a6c-d959d204a0a2",
   "metadata": {},
   "outputs": [
    {
     "data": {
      "text/plain": [
       "Ozone      0\n",
       "Solar      0\n",
       "Wind       0\n",
       "Month      1\n",
       "Day        0\n",
       "Year       0\n",
       "Temp       0\n",
       "Weather    3\n",
       "dtype: int64"
      ]
     },
     "execution_count": 31,
     "metadata": {},
     "output_type": "execute_result"
    }
   ],
   "source": [
    "data1['Solar'] = data1['Solar'].fillna(median_ozone)\n",
    "data1.isnull().sum()"
   ]
  },
  {
   "cell_type": "code",
   "execution_count": 41,
   "id": "6239ec9b-7a16-4630-8d7f-2e911e32f56e",
   "metadata": {},
   "outputs": [
    {
     "name": "stdout",
     "output_type": "stream",
     "text": [
      "Weather\n",
      "S     59\n",
      "C     49\n",
      "PS    47\n",
      "Name: count, dtype: int64\n",
      "S\n"
     ]
    }
   ],
   "source": [
    "print(data1[\"Weather\"].value_counts())\n",
    "mode_weather =  data1[\"Weather\"].mode()[0]\n",
    "print(mode_weather)"
   ]
  },
  {
   "cell_type": "code",
   "execution_count": 35,
   "id": "76db1229-5a47-4c12-8d3d-58327a73cbd2",
   "metadata": {},
   "outputs": [
    {
     "data": {
      "image/png": "[encoded data removed]",
      "text/plain": [
       "<Figure size 800x1600 with 2 Axes>"
      ]
     },
     "metadata": {},
     "output_type": "display_data"
    }
   ],
   "source": [
    "#create a figure with two subplots, stacked vertically\n",
    "fig, axes = plt.subplots(2,1,figsize=(8,16), gridspec_kw={'height_ratios':[1,3]})\n",
    "\n",
    "#plot the boxplot in the first (top) subplot\n",
    "sns.boxplot(data1['Ozone'],ax=axes[0], color='skyblue', width=0.5, orient= 'h')\n",
    "axes[0].set_title('Boxplot')\n",
    "axes[0].set_xlabel('Ozone Levels')\n",
    "\n",
    "# Plot the histogram with KDE curve in the second (bottom) subplot\n",
    "sns.histplot(data1[\"Ozone\"], kde=True, ax=axes[1], color='purple', bins=30)\n",
    "axes [1] .set_title(\"Histogram with KDE\")\n",
    "axes [1] .set_xlabel(\"Ozone Levels\")\n",
    "axes [1] .set_ylabel(\"Frequency\")\n",
    "\n",
    "#Adjust layout for better spacing\n",
    "plt.tight_layout()\n",
    "\n",
    "#show the plot\n",
    "plt.show()"
   ]
  },
  {
   "cell_type": "code",
   "execution_count": 43,
   "id": "1b348243-1f25-4e02-b0ca-4c4c9c029f7e",
   "metadata": {},
   "outputs": [
    {
     "data": {
      "text/plain": [
       "Text(0.5, 1.0, 'Violin Plot')"
      ]
     },
     "execution_count": 43,
     "metadata": {},
     "output_type": "execute_result"
    },
    {
     "data": {
      "image/png": "[encoded data removed]",
      "text/plain": [
       "<Figure size 640x480 with 1 Axes>"
      ]
     },
     "metadata": {},
     "output_type": "display_data"
    }
   ],
   "source": [
    "sns.violinplot(data=data1[\"Ozone\"], color='lightgreen')\n",
    "plt.title(\"Violin Plot\")"
   ]
  },
  {
   "cell_type": "code",
   "execution_count": 47,
   "id": "5507c539-5083-45be-94d4-51a0f22ef36c",
   "metadata": {},
   "outputs": [
    {
     "data": {
      "text/plain": [
       "Text(0.5, 1.0, 'Violin Plot')"
      ]
     },
     "execution_count": 47,
     "metadata": {},
     "output_type": "execute_result"
    },
    {
     "data": {
      "image/png": "[encoded data removed]",
      "text/plain": [
       "<Figure size 640x480 with 1 Axes>"
      ]
     },
     "metadata": {},
     "output_type": "display_data"
    }
   ],
   "source": [
    "sns.violinplot(data=data1[\"Solar\"], color='pink')\n",
    "plt.title(\"Violin Plot\")"
   ]
  },
  {
   "cell_type": "code",
   "execution_count": 49,
   "id": "98373088-deb0-4289-97cf-ba0ebcd3362f",
   "metadata": {},
   "outputs": [
    {
     "data": {
      "image/png": "[encoded data removed]",
      "text/plain": [
       "<Figure size 640x480 with 1 Axes>"
      ]
     },
     "metadata": {},
     "output_type": "display_data"
    }
   ],
   "source": [
    "#CREATE A FIGURE FOR VIOLIN PLOT\n",
    "\n",
    "sns.violinplot(data=data1[\"Ozone\"], color='lightgreen')\n",
    "plt.title(\"Violin Plot\")\n",
    "\n",
    "#SHOW THE PLOT\n",
    "plt.show()"
   ]
  },
  {
   "cell_type": "code",
   "execution_count": null,
   "id": "0c29807a-b92b-443d-bd29-79298d617578",
   "metadata": {},
   "outputs": [],
   "source": []
  }
 ],
 "metadata": {
  "kernelspec": {
   "display_name": "Python [conda env:base] *",
   "language": "python",
   "name": "conda-base-py"
  },
  "language_info": {
   "codemirror_mode": {
    "name": "ipython",
    "version": 3
   },
   "file_extension": ".py",
   "mimetype": "text/x-python",
   "name": "python",
   "nbconvert_exporter": "python",
   "pygments_lexer": "ipython3",
   "version": "3.12.7"
  }
 },
 "nbformat": 4,
 "nbformat_minor": 5
}
